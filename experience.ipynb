{
 "cells": [
  {
   "cell_type": "code",
   "execution_count": 43,
   "metadata": {
    "collapsed": false
   },
   "outputs": [
    {
     "data": {
      "text/html": [
       "<script>requirejs.config({paths: { 'plotly': ['https://cdn.plot.ly/plotly-latest.min']},});if(!window.Plotly) {{require(['plotly'],function(plotly) {window.Plotly=plotly;});}}</script>"
      ],
      "text/vnd.plotly.v1+html": [
       "<script>requirejs.config({paths: { 'plotly': ['https://cdn.plot.ly/plotly-latest.min']},});if(!window.Plotly) {{require(['plotly'],function(plotly) {window.Plotly=plotly;});}}</script>"
      ]
     },
     "metadata": {},
     "output_type": "display_data"
    }
   ],
   "source": [
    "import pandas as pd\n",
    "%matplotlib inline\n",
    "import numpy as np\n",
    "from plotly.offline import download_plotlyjs, init_notebook_mode, plot, iplot\n",
    "from plotly import graph_objs as go\n",
    "init_notebook_mode(connected=True)"
   ]
  },
  {
   "cell_type": "code",
   "execution_count": 28,
   "metadata": {
    "collapsed": false
   },
   "outputs": [],
   "source": [
    "df = pd.read_csv('data/GLB.Ts+dSST.csv', skiprows=1)\n"
   ]
  },
  {
   "cell_type": "code",
   "execution_count": 45,
   "metadata": {
    "collapsed": false
   },
   "outputs": [
    {
     "name": "stdout",
     "output_type": "stream",
     "text": [
      "<class 'pandas.core.frame.DataFrame'>\n",
      "RangeIndex: 138 entries, 0 to 137\n",
      "Data columns (total 19 columns):\n",
      "Year    138 non-null int64\n",
      "Jan     138 non-null float64\n",
      "Feb     138 non-null float64\n",
      "Mar     138 non-null float64\n",
      "Apr     138 non-null float64\n",
      "May     138 non-null float64\n",
      "Jun     138 non-null float64\n",
      "Jul     138 non-null float64\n",
      "Aug     137 non-null object\n",
      "Sep     137 non-null object\n",
      "Oct     137 non-null object\n",
      "Nov     137 non-null object\n",
      "Dec     137 non-null object\n",
      "J-D     137 non-null object\n",
      "D-N     136 non-null object\n",
      "DJF     137 non-null object\n",
      "MAM     138 non-null float64\n",
      "JJA     137 non-null object\n",
      "SON     137 non-null object\n",
      "dtypes: float64(8), int64(1), object(10)\n",
      "memory usage: 20.6+ KB\n"
     ]
    }
   ],
   "source": [
    "df.info()"
   ]
  },
  {
   "cell_type": "code",
   "execution_count": 30,
   "metadata": {
    "collapsed": false
   },
   "outputs": [],
   "source": [
    "df.replace(\"***\", np.nan, inplace=True) "
   ]
  },
  {
   "cell_type": "code",
   "execution_count": 31,
   "metadata": {
    "collapsed": false
   },
   "outputs": [
    {
     "data": {
      "text/plain": [
       "<matplotlib.axes._subplots.AxesSubplot at 0x107cc79e8>"
      ]
     },
     "execution_count": 31,
     "metadata": {},
     "output_type": "execute_result"
    },
    {
     "data": {
      "image/png": "[encoded data removed]",
      "text/plain": [
       "<matplotlib.figure.Figure at 0x107cc7f28>"
      ]
     },
     "metadata": {},
     "output_type": "display_data"
    }
   ],
   "source": [
    "df[\"SON\"].map(float).plot()"
   ]
  },
  {
   "cell_type": "code",
   "execution_count": 47,
   "metadata": {
    "collapsed": false
   },
   "outputs": [
    {
     "data": {
      "application/vnd.plotly.v1+json": {
       "data": [
        {
         "name": "Temperatures",
         "type": "scatter",
         "x": [
          1880,
          1881,
          1882,
          1883,
          1884,
          1885,
          1886,
          1887,
          1888,
          1889,
          1890,
          1891,
          1892,
          1893,
          1894,
          1895,
          1896,
          1897,
          1898,
          1899,
          1900,
          1901,
          1902,
          1903,
          1904,
          1905,
          1906,
          1907,
          1908,
          1909,
          1910,
          1911,
          1912,
          1913,
          1914,
          1915,
          1916,
          1917,
          1918,
          1919,
          1920,
          1921,
          1922,
          1923,
          1924,
          1925,
          1926,
          1927,
          1928,
          1929,
          1930,
          1931,
          1932,
          1933,
          1934,
          1935,
          1936,
          1937,
          1938,
          1939,
          1940,
          1941,
          1942,
          1943,
          1944,
          1945,
          1946,
          1947,
          1948,
          1949,
          1950,
          1951,
          1952,
          1953,
          1954,
          1955,
          1956,
          1957,
          1958,
          1959,
          1960,
          1961,
          1962,
          1963,
          1964,
          1965,
          1966,
          1967,
          1968,
          1969,
          1970,
          1971,
          1972,
          1973,
          1974,
          1975,
          1976,
          1977,
          1978,
          1979,
          1980,
          1981,
          1982,
          1983,
          1984,
          1985,
          1986,
          1987,
          1988,
          1989,
          1990,
          1991,
          1992,
          1993,
          1994,
          1995,
          1996,
          1997,
          1998,
          1999,
          2000,
          2001,
          2002,
          2003,
          2004,
          2005,
          2006,
          2007,
          2008,
          2009,
          2010,
          2011,
          2012,
          2013,
          2014,
          2015,
          2016,
          2017
         ],
         "y": [
          "-.21",
          "-.20",
          "-.18",
          "-.20",
          "-.28",
          "-.22",
          "-.29",
          "-.27",
          "-.03",
          "-.27",
          "-.38",
          "-.25",
          "-.24",
          "-.19",
          "-.25",
          "-.12",
          "-.01",
          "-.15",
          "-.33",
          ".00",
          "-.03",
          "-.24",
          "-.33",
          "-.48",
          "-.39",
          "-.19",
          "-.29",
          "-.37",
          "-.45",
          "-.36",
          "-.44",
          "-.26",
          "-.50",
          "-.31",
          "-.13",
          "-.19",
          "-.33",
          "-.29",
          "-.11",
          "-.28",
          "-.25",
          "-.12",
          "-.26",
          "-.13",
          "-.28",
          "-.11",
          "-.10",
          "-.06",
          "-.16",
          "-.16",
          "-.03",
          "-.06",
          "-.16",
          "-.26",
          "-.07",
          "-.19",
          "-.06",
          ".09",
          ".05",
          "-.02",
          ".12",
          ".19",
          ".00",
          ".15",
          ".21",
          ".16",
          "-.06",
          "-.02",
          "-.10",
          "-.10",
          "-.24",
          ".04",
          "-.02",
          ".02",
          "-.03",
          "-.13",
          "-.20",
          ".06",
          ".02",
          "-.08",
          ".01",
          ".03",
          ".03",
          ".17",
          "-.27",
          "-.09",
          "-.06",
          "-.01",
          "-.04",
          ".11",
          ".06",
          "-.05",
          ".05",
          ".10",
          "-.09",
          "-.09",
          "-.13",
          ".06",
          ".07",
          ".26",
          ".22",
          ".18",
          ".14",
          ".29",
          ".14",
          ".12",
          ".08",
          ".32",
          ".31",
          ".30",
          ".39",
          ".36",
          ".03",
          ".13",
          ".39",
          ".42",
          ".28",
          ".60",
          ".44",
          ".39",
          ".33",
          ".58",
          ".58",
          ".63",
          ".62",
          ".75",
          ".66",
          ".58",
          ".64",
          ".70",
          ".68",
          ".57",
          ".74",
          ".74",
          ".78",
          ".98",
          ".89",
          null
         ]
        }
       ],
       "layout": {
        "title": "Evolution of mean temperature during the year"
       }
      },
      "text/html": [
       "<div id=\"7f9b7de2-d5f0-4f6a-b40c-6d27abe61295\" style=\"height: 525px; width: 100%;\" class=\"plotly-graph-div\"></div><script type=\"text/javascript\">require([\"plotly\"], function(Plotly) { window.PLOTLYENV=window.PLOTLYENV || {};window.PLOTLYENV.BASE_URL=\"https://plot.ly\";Plotly.newPlot(\"7f9b7de2-d5f0-4f6a-b40c-6d27abe61295\", [{\"type\": \"scatter\", \"x\": [1880, 1881, 1882, 1883, 1884, 1885, 1886, 1887, 1888, 1889, 1890, 1891, 1892, 1893, 1894, 1895, 1896, 1897, 1898, 1899, 1900, 1901, 1902, 1903, 1904, 1905, 1906, 1907, 1908, 1909, 1910, 1911, 1912, 1913, 1914, 1915, 1916, 1917, 1918, 1919, 1920, 1921, 1922, 1923, 1924, 1925, 1926, 1927, 1928, 1929, 1930, 1931, 1932, 1933, 1934, 1935, 1936, 1937, 1938, 1939, 1940, 1941, 1942, 1943, 1944, 1945, 1946, 1947, 1948, 1949, 1950, 1951, 1952, 1953, 1954, 1955, 1956, 1957, 1958, 1959, 1960, 1961, 1962, 1963, 1964, 1965, 1966, 1967, 1968, 1969, 1970, 1971, 1972, 1973, 1974, 1975, 1976, 1977, 1978, 1979, 1980, 1981, 1982, 1983, 1984, 1985, 1986, 1987, 1988, 1989, 1990, 1991, 1992, 1993, 1994, 1995, 1996, 1997, 1998, 1999, 2000, 2001, 2002, 2003, 2004, 2005, 2006, 2007, 2008, 2009, 2010, 2011, 2012, 2013, 2014, 2015, 2016, 2017], \"y\": [\"-.21\", \"-.20\", \"-.18\", \"-.20\", \"-.28\", \"-.22\", \"-.29\", \"-.27\", \"-.03\", \"-.27\", \"-.38\", \"-.25\", \"-.24\", \"-.19\", \"-.25\", \"-.12\", \"-.01\", \"-.15\", \"-.33\", \".00\", \"-.03\", \"-.24\", \"-.33\", \"-.48\", \"-.39\", \"-.19\", \"-.29\", \"-.37\", \"-.45\", \"-.36\", \"-.44\", \"-.26\", \"-.50\", \"-.31\", \"-.13\", \"-.19\", \"-.33\", \"-.29\", \"-.11\", \"-.28\", \"-.25\", \"-.12\", \"-.26\", \"-.13\", \"-.28\", \"-.11\", \"-.10\", \"-.06\", \"-.16\", \"-.16\", \"-.03\", \"-.06\", \"-.16\", \"-.26\", \"-.07\", \"-.19\", \"-.06\", \".09\", \".05\", \"-.02\", \".12\", \".19\", \".00\", \".15\", \".21\", \".16\", \"-.06\", \"-.02\", \"-.10\", \"-.10\", \"-.24\", \".04\", \"-.02\", \".02\", \"-.03\", \"-.13\", \"-.20\", \".06\", \".02\", \"-.08\", \".01\", \".03\", \".03\", \".17\", \"-.27\", \"-.09\", \"-.06\", \"-.01\", \"-.04\", \".11\", \".06\", \"-.05\", \".05\", \".10\", \"-.09\", \"-.09\", \"-.13\", \".06\", \".07\", \".26\", \".22\", \".18\", \".14\", \".29\", \".14\", \".12\", \".08\", \".32\", \".31\", \".30\", \".39\", \".36\", \".03\", \".13\", \".39\", \".42\", \".28\", \".60\", \".44\", \".39\", \".33\", \".58\", \".58\", \".63\", \".62\", \".75\", \".66\", \".58\", \".64\", \".70\", \".68\", \".57\", \".74\", \".74\", \".78\", \".98\", \".89\", null], \"name\": \"Temperatures\"}], {\"title\": \"Evolution of mean temperature during the year\"}, {\"showLink\": true, \"linkText\": \"Export to plot.ly\"})});</script>"
      ],
      "text/vnd.plotly.v1+html": [
       "<div id=\"7f9b7de2-d5f0-4f6a-b40c-6d27abe61295\" style=\"height: 525px; width: 100%;\" class=\"plotly-graph-div\"></div><script type=\"text/javascript\">require([\"plotly\"], function(Plotly) { window.PLOTLYENV=window.PLOTLYENV || {};window.PLOTLYENV.BASE_URL=\"https://plot.ly\";Plotly.newPlot(\"7f9b7de2-d5f0-4f6a-b40c-6d27abe61295\", [{\"type\": \"scatter\", \"x\": [1880, 1881, 1882, 1883, 1884, 1885, 1886, 1887, 1888, 1889, 1890, 1891, 1892, 1893, 1894, 1895, 1896, 1897, 1898, 1899, 1900, 1901, 1902, 1903, 1904, 1905, 1906, 1907, 1908, 1909, 1910, 1911, 1912, 1913, 1914, 1915, 1916, 1917, 1918, 1919, 1920, 1921, 1922, 1923, 1924, 1925, 1926, 1927, 1928, 1929, 1930, 1931, 1932, 1933, 1934, 1935, 1936, 1937, 1938, 1939, 1940, 1941, 1942, 1943, 1944, 1945, 1946, 1947, 1948, 1949, 1950, 1951, 1952, 1953, 1954, 1955, 1956, 1957, 1958, 1959, 1960, 1961, 1962, 1963, 1964, 1965, 1966, 1967, 1968, 1969, 1970, 1971, 1972, 1973, 1974, 1975, 1976, 1977, 1978, 1979, 1980, 1981, 1982, 1983, 1984, 1985, 1986, 1987, 1988, 1989, 1990, 1991, 1992, 1993, 1994, 1995, 1996, 1997, 1998, 1999, 2000, 2001, 2002, 2003, 2004, 2005, 2006, 2007, 2008, 2009, 2010, 2011, 2012, 2013, 2014, 2015, 2016, 2017], \"y\": [\"-.21\", \"-.20\", \"-.18\", \"-.20\", \"-.28\", \"-.22\", \"-.29\", \"-.27\", \"-.03\", \"-.27\", \"-.38\", \"-.25\", \"-.24\", \"-.19\", \"-.25\", \"-.12\", \"-.01\", \"-.15\", \"-.33\", \".00\", \"-.03\", \"-.24\", \"-.33\", \"-.48\", \"-.39\", \"-.19\", \"-.29\", \"-.37\", \"-.45\", \"-.36\", \"-.44\", \"-.26\", \"-.50\", \"-.31\", \"-.13\", \"-.19\", \"-.33\", \"-.29\", \"-.11\", \"-.28\", \"-.25\", \"-.12\", \"-.26\", \"-.13\", \"-.28\", \"-.11\", \"-.10\", \"-.06\", \"-.16\", \"-.16\", \"-.03\", \"-.06\", \"-.16\", \"-.26\", \"-.07\", \"-.19\", \"-.06\", \".09\", \".05\", \"-.02\", \".12\", \".19\", \".00\", \".15\", \".21\", \".16\", \"-.06\", \"-.02\", \"-.10\", \"-.10\", \"-.24\", \".04\", \"-.02\", \".02\", \"-.03\", \"-.13\", \"-.20\", \".06\", \".02\", \"-.08\", \".01\", \".03\", \".03\", \".17\", \"-.27\", \"-.09\", \"-.06\", \"-.01\", \"-.04\", \".11\", \".06\", \"-.05\", \".05\", \".10\", \"-.09\", \"-.09\", \"-.13\", \".06\", \".07\", \".26\", \".22\", \".18\", \".14\", \".29\", \".14\", \".12\", \".08\", \".32\", \".31\", \".30\", \".39\", \".36\", \".03\", \".13\", \".39\", \".42\", \".28\", \".60\", \".44\", \".39\", \".33\", \".58\", \".58\", \".63\", \".62\", \".75\", \".66\", \".58\", \".64\", \".70\", \".68\", \".57\", \".74\", \".74\", \".78\", \".98\", \".89\", null], \"name\": \"Temperatures\"}], {\"title\": \"Evolution of mean temperature during the year\"}, {\"showLink\": true, \"linkText\": \"Export to plot.ly\"})});</script>"
      ]
     },
     "metadata": {},
     "output_type": "display_data"
    }
   ],
   "source": [
    "trace = go.Scatter(\n",
    "    x=df['Year'],\n",
    "    y=df[\"SON\"],\n",
    "    name='Temperatures'\n",
    ")\n",
    "layout = go.Layout(\n",
    "    title='Evolution of mean temperature during the year'\n",
    ")\n",
    "fig = go.Figure(\n",
    "    data=[trace],\n",
    "    layout=layout\n",
    ")\n",
    "iplot(fig)"
   ]
  },
  {
   "cell_type": "code",
   "execution_count": null,
   "metadata": {
    "collapsed": true
   },
   "outputs": [],
   "source": []
  }
 ],
 "metadata": {
  "kernelspec": {
   "display_name": "Python 3",
   "language": "python",
   "name": "python3"
  },
  "language_info": {
   "codemirror_mode": {
    "name": "ipython",
    "version": 3
   },
   "file_extension": ".py",
   "mimetype": "text/x-python",
   "name": "python",
   "nbconvert_exporter": "python",
   "pygments_lexer": "ipython3",
   "version": "3.6.2"
  }
 },
 "nbformat": 4,
 "nbformat_minor": 2
}
